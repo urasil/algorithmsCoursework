{
 "cells": [
  {
   "cell_type": "markdown",
   "metadata": {},
   "source": [
    "# Set Membership"
   ]
  },
  {
   "cell_type": "markdown",
   "metadata": {},
   "source": [
    "The cell below defines two **abstract classes**: the first represents a set and basic insert/search operations on it. You will need to impement this API four times, to implement (1) sequential search, (2) binary search tree, (3) balanced search tree, and (4) bloom filter. The second defines the synthetic data generator you will need to implement as part of your experimental framework. <br><br>**Do NOT modify the next cell** - use the dedicated cells further below for your implementation instead. <br>"
   ]
  },
  {
   "cell_type": "code",
   "execution_count": 2,
   "metadata": {},
   "outputs": [],
   "source": [
    "# DO NOT MODIFY THIS CELL\n",
    "\n",
    "from abc import ABC, abstractmethod  \n",
    "\n",
    "# abstract class to represent a set and its insert/search operations\n",
    "class AbstractSet(ABC):\n",
    "    \n",
    "    # constructor\n",
    "    @abstractmethod\n",
    "    def __init__(self):\n",
    "        pass           \n",
    "        \n",
    "    # inserts \"element\" in the set\n",
    "    # returns \"True\" after successful insertion, \"False\" if the element is already in the set\n",
    "    # element : str\n",
    "    # inserted : bool\n",
    "    @abstractmethod\n",
    "    def insertElement(self, element):     \n",
    "        inserted = False\n",
    "        return inserted   \n",
    "    \n",
    "    # checks whether \"element\" is in the set\n",
    "    # returns \"True\" if it is, \"False\" otherwise\n",
    "    # element : str\n",
    "    # found : bool\n",
    "    @abstractmethod\n",
    "    def searchElement(self, element):\n",
    "        found = False\n",
    "        return found    \n",
    "    \n",
    "    \n",
    "    \n",
    "# abstract class to represent a synthetic data generator\n",
    "class AbstractTestDataGenerator(ABC):\n",
    "    \n",
    "    # constructor\n",
    "    @abstractmethod\n",
    "    def __init__(self):\n",
    "        pass           \n",
    "        \n",
    "    # creates and returns a list of length \"size\" of strings\n",
    "    # size : int\n",
    "    # data : list<str>\n",
    "    @abstractmethod\n",
    "    def generateData(self, size):     \n",
    "        data = [\"\"]*size\n",
    "        return data   \n"
   ]
  },
  {
   "cell_type": "markdown",
   "metadata": {},
   "source": [
    "Use the cell below to define any auxiliary data structure and python function you may need. Leave the implementation of the main API to the next code cells instead."
   ]
  },
  {
   "cell_type": "code",
   "execution_count": 3,
   "metadata": {},
   "outputs": [],
   "source": [
    "# ADD AUXILIARY DATA STRUCTURE DEFINITIONS AND HELPER CODE HERE\n",
    "def toRead(a):\n",
    "    file = open(input(\"enter the file name: \"), \"r\")\n",
    "    for line in file:\n",
    "        for word in line.split():\n",
    "            a.insertElement(word)\n",
    "    file.close()"
   ]
  },
  {
   "cell_type": "markdown",
   "metadata": {},
   "source": [
    "Use the cell below to implement the requested API by means of **sequential search**."
   ]
  },
  {
   "cell_type": "code",
   "execution_count": 16,
   "metadata": {},
   "outputs": [],
   "source": [
    "class SequentialSearchSet(AbstractSet):\n",
    "\n",
    "    def __init__(self):    \n",
    "        self.lst = []\n",
    "        pass           \n",
    "     \n",
    "    def insertElement(self, element):\n",
    "        inserted = False\n",
    "        if element in self.lst:\n",
    "            inserted = False\n",
    "        else:\n",
    "            self.lst.append(element)\n",
    "            inserted = True\n",
    "\n",
    "        return inserted\n",
    "    \n",
    "    \n",
    "\n",
    "    def searchElement(self, element):     \n",
    "        found = False\n",
    "        if element in self.lst:\n",
    "            found = True\n",
    "    \n",
    "        return found    \n",
    "\n",
    "seq = SequentialSearchSet()\n",
    "#toRead(seq)\n",
    "#print(seq.searchElement(\"coral\"))\n",
    "#print(seq.searchElement(\"uras\"))"
   ]
  },
  {
   "cell_type": "markdown",
   "metadata": {},
   "source": [
    "Use the cell below to implement the requested API by means of **binary search tree**."
   ]
  },
  {
   "cell_type": "code",
   "execution_count": 14,
   "metadata": {},
   "outputs": [],
   "source": [
    "class BinarySearchTreeSet(AbstractSet):\n",
    "    \n",
    "    def __init__(self, element): \n",
    "        self.right = None\n",
    "        self.left = None\n",
    "        self.element = element\n",
    "        \n",
    "    def insertElement(self, element):\n",
    "        inserted = False\n",
    "        \n",
    "        if self.element == element:\n",
    "            inserted = True\n",
    "            \n",
    "        elif self.element > element:\n",
    "            if self.left is None:\n",
    "                self.left = BinarySearchTreeSet(element)\n",
    "                inserted = True\n",
    "            else:\n",
    "                self.left.insertElement(element)\n",
    "                \n",
    "        else:\n",
    "            if self.right is None:\n",
    "                self.right = BinarySearchTreeSet(element)\n",
    "                inserted = True\n",
    "            else:\n",
    "                self.right.insertElement(element)\n",
    "        \n",
    "        return inserted\n",
    "\n",
    "    def searchElement(self, element):     \n",
    "        found = False\n",
    "        if element == self.element:\n",
    "            found = True\n",
    "        \n",
    "        elif self.element > element:\n",
    "            if self.left is not None:\n",
    "                return self.left.searchElement(element)\n",
    "        else:\n",
    "            if self.right is not None:\n",
    "                return self.right.searchElement(element)\n",
    "        \n",
    "        return found \n",
    "    \n",
    "tree = BinarySearchTreeSet(\"start\")\n",
    "#toRead(tree)\n",
    "#/home/uras/Documents/COMP0002/Algorithms/algorithmsCoursework/testfiles/test1-mobydick.txt\n",
    "#print(tree.searchElement(\"coral\"))\n",
    "#print(tree.searchElement(\"uras\"))"
   ]
  },
  {
   "cell_type": "markdown",
   "metadata": {},
   "source": [
    "Use the cell below to implement the requested API by means of **balanced search tree**."
   ]
  },
  {
   "cell_type": "code",
   "execution_count": 13,
   "metadata": {},
   "outputs": [],
   "source": [
    "class BalancedSearchTreeSet(AbstractSet):\n",
    "    def __init__(self):\n",
    "        self.root = None\n",
    "\n",
    "    def isRed(self, node):\n",
    "        if node is None:\n",
    "            return False\n",
    "        return node.color == \"RED\"\n",
    "\n",
    "    def rotateLeft(self, node):\n",
    "        temp = node.right\n",
    "        node.right = temp.left\n",
    "        temp.left = node\n",
    "        temp.color = node.color\n",
    "        node.color = \"RED\"\n",
    "        return temp\n",
    "\n",
    "    def rotateRight(self, node):\n",
    "        temp = node.left\n",
    "        node.left = temp.right\n",
    "        temp.right = node\n",
    "        temp.color = node.color\n",
    "        node.color = \"RED\"\n",
    "        return temp\n",
    "\n",
    "    def flipColors(self, node):\n",
    "        node.color = \"RED\"\n",
    "        node.left.color = \"BLACK\"\n",
    "        node.right.color = \"BLACK\"\n",
    "\n",
    "    def insertElement(self, element):\n",
    "        inserted = False\n",
    "        self.root = self.recursiveInsert(self.root, element)\n",
    "        self.root.color = \"BLACK\"\n",
    "        return inserted\n",
    "\n",
    "    def recursiveInsert(self, node, element):\n",
    "        if node is None:\n",
    "            return Node(element)\n",
    "\n",
    "        if element < node.element:\n",
    "            node.left = self.recursiveInsert(node.left, element)\n",
    "        elif element > node.element:\n",
    "            node.right = self.recursiveInsert(node.right, element)\n",
    "\n",
    "        # Maintain left-leaning property\n",
    "        if self.isRed(node.right) and not self.isRed(node.left):\n",
    "            node = self.rotateLeft(node)\n",
    "        if self.isRed(node.left) and self.isRed(node.left.left):\n",
    "            node = self.rotateRight(node)\n",
    "        if self.isRed(node.left) and self.isRed(node.right):\n",
    "            self.flipColors(node)\n",
    "\n",
    "        return node\n",
    "\n",
    "    def searchElement(self, element):\n",
    "        found = self.recursiveSearch(self.root, element)\n",
    "        return found\n",
    "\n",
    "    def recursiveSearch(self, node, element):\n",
    "        if node is None:\n",
    "            return False\n",
    "        if element < node.element:\n",
    "            return self.recursiveSearch(node.left, element)\n",
    "        elif element > node.element:\n",
    "            return self.recursiveSearch(node.right, element)\n",
    "        else:\n",
    "            return True\n",
    "class Node:\n",
    "    def __init__(self, element):\n",
    "        self.element = element\n",
    "        self.left = None\n",
    "        self.right = None\n",
    "        self.color = \"BLACK\"\n",
    "\n",
    "x = BalancedSearchTreeSet()\n",
    "#toRead(x)\n",
    "#print(x.searchElement(\"disconcerted\"))\n",
    "#print(x.searchElement(\"qayyum\"))\n",
    "#print(x.searchElement(\"uras\"))"
   ]
  },
  {
   "cell_type": "markdown",
   "metadata": {},
   "source": [
    "Use the cell below to implement the requested API by means of **bloom filter**."
   ]
  },
  {
   "cell_type": "code",
   "execution_count": 12,
   "metadata": {},
   "outputs": [],
   "source": [
    "class BloomFilterSet(AbstractSet):\n",
    "    \n",
    "    def __init__(self,size):\n",
    "        self.size = size \n",
    "        self.buckets = [0] * self.size           \n",
    "        \n",
    "    def insertElement(self, element):\n",
    "        inserted = False\n",
    "        hashValue = self.hashFunction(element)\n",
    "        self.buckets[hashValue] = 1\n",
    "        return hashValue\n",
    "\n",
    "    def searchElement(self, element):     \n",
    "        found = False\n",
    "        # ADD YOUR CODE HERE\n",
    "        hashValue = self.hashFunction(element)\n",
    "        if self.buckets[hashValue] == 1:\n",
    "            found = True\n",
    "        return found    \n",
    "\n",
    "    def hashFunction(self, element):\n",
    "        return hash(element) % self.size\n",
    "\n",
    "bloom = BloomFilterSet(1000000)\n",
    "\n",
    "\n",
    "\n",
    "#toRead(bloom)\n",
    "#print(bloom.searchElement(\"qayyum\"))\n",
    "#print(bloom.searchElement(\"alexio\"))\n",
    "#print(bloom.searchElement(\"coral\"))\n"
   ]
  },
  {
   "cell_type": "markdown",
   "metadata": {},
   "source": [
    "Use the cell below to implement the **synthetic data generator** as part of your experimental framework."
   ]
  },
  {
   "cell_type": "code",
   "execution_count": 7,
   "metadata": {},
   "outputs": [],
   "source": [
    "import string\n",
    "import random\n",
    "\n",
    "class TestDataGenerator(AbstractTestDataGenerator):\n",
    "    \n",
    "    def __init__(self):\n",
    "        pass           \n",
    "        \n",
    "    def generateData(self, size):     \n",
    "        data = [\"\"]*size\n",
    "\n",
    "        for i in range(len(data)):\n",
    "            length = random.randint(1,10)\n",
    "            for _ in range(length):\n",
    "                data[i] += (random.choice(string.ascii_lowercase)) \n",
    "                \n",
    "        return data "
   ]
  },
  {
   "cell_type": "markdown",
   "metadata": {},
   "source": [
    "Use the cells below for the python code needed to **fully evaluate your implementations**, first on real data and subsequently on synthetic data (i.e., read data from test files / generate synthetic one, instantiate each of the 4 set implementations in turn, then thorouhgly experiment with insert/search operations and measure their performance)."
   ]
  },
  {
   "cell_type": "code",
   "execution_count": 22,
   "metadata": {},
   "outputs": [
    {
     "name": "stdout",
     "output_type": "stream",
     "text": [
      "enter the file name: /home/uras/Documents/COMP0002/Algorithms/algorithmsCoursework/testfiles/test2-warpeace.txt\n",
      "Execution time: 9.448460242000237 seconds\n",
      "enter the file name: /home/uras/Documents/COMP0002/Algorithms/algorithmsCoursework/testfiles/test2-warpeace.txt\n",
      "Execution time: 4.863839817000098 seconds\n",
      "enter the file name: /home/uras/Documents/COMP0002/Algorithms/algorithmsCoursework/testfiles/test2-warpeace.txt\n",
      "Execution time: 9.333844608000163 seconds\n",
      "enter the file name: /home/uras/Documents/COMP0002/Algorithms/algorithmsCoursework/testfiles/test2-warpeace.txt\n",
      "Execution time: 5.332916574000137 seconds\n"
     ]
    }
   ],
   "source": [
    "import timeit\n",
    "x = BalancedSearchTreeSet()\n",
    "y = BinarySearchTreeSet(\"start\")\n",
    "z = SequentialSearchSet()\n",
    "w = BloomFilterSet(100000)\n",
    "def takingTime(codeToExecInString, numberOfExecution):\n",
    "    code = codeToExecInString\n",
    "    executionTime = timeit.timeit(code, globals=globals(), number=numberOfExecution)\n",
    "    print(f\"Execution time: {executionTime} seconds\")\n",
    "#toRead(x)\n",
    "#toRead(y)\n",
    "#toRead(z)\n",
    "#toRead(w)\n",
    "#/home/uras/Documents/COMP0002/Algorithms/algorithmsCoursework/testfiles/test2-warpeace.txt\n",
    "#starwise\n",
    "#takingTime(\"x.searchElement('starwise')\", 1)\n",
    "#takingTime(\"y.searchElement('starwise')\", 1)\n",
    "#takingTime(\"z.searchElement('starwise')\", 1)\n",
    "#takingTime(\"w.searchElement('starwise')\", 1)\n",
    "takingTime(\"toRead(x)\", 1)\n",
    "takingTime(\"toRead(y)\", 1)\n",
    "takingTime(\"toRead(z)\", 1)\n",
    "takingTime(\"toRead(w)\", 1)\n",
    "\n"
   ]
  },
  {
   "cell_type": "code",
   "execution_count": 9,
   "metadata": {},
   "outputs": [],
   "source": [
    "import timeit\n",
    "\n",
    "# ADD YOUR TEST CODE HERE TO WORK ON SYNTHETIC DATA\n",
    "\n",
    "\n",
    "\n"
   ]
  }
 ],
 "metadata": {
  "kernelspec": {
   "display_name": "Python 3 (ipykernel)",
   "language": "python",
   "name": "python3"
  },
  "language_info": {
   "codemirror_mode": {
    "name": "ipython",
    "version": 3
   },
   "file_extension": ".py",
   "mimetype": "text/x-python",
   "name": "python",
   "nbconvert_exporter": "python",
   "pygments_lexer": "ipython3",
   "version": "3.10.6"
  },
  "vscode": {
   "interpreter": {
    "hash": "916dbcbb3f70747c44a77c7bcd40155683ae19c65e1c03b4aa3499c5328201f1"
   }
  }
 },
 "nbformat": 4,
 "nbformat_minor": 4
}
